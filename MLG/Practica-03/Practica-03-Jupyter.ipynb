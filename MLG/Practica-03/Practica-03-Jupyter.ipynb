{
 "cells": [
  {
   "cell_type": "code",
   "execution_count": 2,
   "metadata": {},
   "outputs": [
    {
     "name": "stderr",
     "output_type": "stream",
     "text": [
      "Warning message:\n",
      "\"package 'R2WinBUGS' was built under R version 3.4.4\"Loading required package: coda\n",
      "Warning message:\n",
      "\"package 'coda' was built under R version 3.4.4\"Loading required package: boot\n",
      "Warning message:\n",
      "\"package 'mcmcplots' was built under R version 3.4.4\""
     ]
    }
   ],
   "source": [
    "####################################################################\n",
    "#                     Practica No.3\n",
    "# Pregunta 1\n",
    "####################################################################\n",
    "\n",
    "#Descomentar para instalar los paquetes\n",
    "#install.packages(\"R2WinBUGS\")\n",
    "#install.packages(\"mcmcplots\")\n",
    "\n",
    "library(R2WinBUGS)\n",
    "library(coda)\n",
    "library(boot)\n",
    "library(mcmcplots)"
   ]
  },
  {
   "cell_type": "code",
   "execution_count": 3,
   "metadata": {},
   "outputs": [],
   "source": [
    "#Directorio de WinBUGS\n",
    "WINBUGS.DIR <- \"D:/bin/WinBUGS14/\"\n",
    "\n",
    "#Nombre de archivo\n",
    "NAME.FILE.MOD1.BUG <- \"Practica-03-mod1.bug\"\n",
    "NAME.FILE.MOD2.BUG <- \"Practica-03-mod2.bug\"\n",
    "NAME.FILE.MOD3.BUG <- \"Practica-03-mod3.bug\"\n",
    "\n",
    "#Ruta archivo\n",
    "PATH.FILE <- \"https://raw.githubusercontent.com/jgomezz/MscEstadisticaAplicada-UNALM-2018-2/master/MLG/Practica-03/molinos.csv\""
   ]
  },
  {
   "cell_type": "code",
   "execution_count": 4,
   "metadata": {
    "scrolled": true
   },
   "outputs": [
    {
     "data": {
      "text/html": [
       "<table>\n",
       "<thead><tr><th scope=col>viento</th><th scope=col>corriente</th></tr></thead>\n",
       "<tbody>\n",
       "\t<tr><td> 5.0 </td><td>1.582</td></tr>\n",
       "\t<tr><td> 6.0 </td><td>1.822</td></tr>\n",
       "\t<tr><td> 3.4 </td><td>1.057</td></tr>\n",
       "\t<tr><td> 2.7 </td><td>0.500</td></tr>\n",
       "\t<tr><td>10.0 </td><td>2.236</td></tr>\n",
       "\t<tr><td> 9.7 </td><td>2.386</td></tr>\n",
       "</tbody>\n",
       "</table>\n"
      ],
      "text/latex": [
       "\\begin{tabular}{r|ll}\n",
       " viento & corriente\\\\\n",
       "\\hline\n",
       "\t  5.0  & 1.582\\\\\n",
       "\t  6.0  & 1.822\\\\\n",
       "\t  3.4  & 1.057\\\\\n",
       "\t  2.7  & 0.500\\\\\n",
       "\t 10.0  & 2.236\\\\\n",
       "\t  9.7  & 2.386\\\\\n",
       "\\end{tabular}\n"
      ],
      "text/markdown": [
       "\n",
       "viento | corriente | \n",
       "|---|---|---|---|---|---|\n",
       "|  5.0  | 1.582 | \n",
       "|  6.0  | 1.822 | \n",
       "|  3.4  | 1.057 | \n",
       "|  2.7  | 0.500 | \n",
       "| 10.0  | 2.236 | \n",
       "|  9.7  | 2.386 | \n",
       "\n",
       "\n"
      ],
      "text/plain": [
       "  viento corriente\n",
       "1  5.0   1.582    \n",
       "2  6.0   1.822    \n",
       "3  3.4   1.057    \n",
       "4  2.7   0.500    \n",
       "5 10.0   2.236    \n",
       "6  9.7   2.386    "
      ]
     },
     "metadata": {},
     "output_type": "display_data"
    }
   ],
   "source": [
    "#Lectura de datos\n",
    "molinos.data <- read.csv(PATH.FILE, header = TRUE)\n",
    "head(molinos.data)"
   ]
  },
  {
   "cell_type": "code",
   "execution_count": 5,
   "metadata": {},
   "outputs": [
    {
     "data": {
      "image/png": "[encoded data removed]",
      "text/plain": [
       "plot without title"
      ]
     },
     "metadata": {},
     "output_type": "display_data"
    }
   ],
   "source": [
    "#Análisis descriptivo\n",
    "plot(molinos.data$viento, molinos.data$corriente)"
   ]
  },
  {
   "cell_type": "code",
   "execution_count": 7,
   "metadata": {},
   "outputs": [],
   "source": [
    "#Datos para el análisis\n",
    "molinos.data.bugs <- list(viento = molinos.data$viento ,\n",
    "                          corriente = molinos.data$corriente ,\n",
    "                          N = nrow(molinos.data))\n",
    "\n",
    "# Parametros\n",
    "molinos.param.bugs <- c(\"alpha\",\"beta1\",\"tau\",\"sigma2\")\n",
    "\n",
    "\n",
    "# Inicializa : asigna valores aleatorios para inicializarlos\n",
    "molinos.inits.bugs <- function() {\n",
    "                          list( alpha = rnorm(1), \n",
    "                                beta1 = rnorm(1), \n",
    "                                tau   = rgamma(1,1,1) )}        "
   ]
  },
  {
   "cell_type": "code",
   "execution_count": 8,
   "metadata": {},
   "outputs": [
    {
     "data": {
      "text/plain": [
       "\n",
       "Call:\n",
       "lm(formula = molinos.data$corriente ~ molinos.data$viento)\n",
       "\n",
       "Residuals:\n",
       "     Min       1Q   Median       3Q      Max \n",
       "-0.59869 -0.14099  0.06059  0.17262  0.32184 \n",
       "\n",
       "Coefficients:\n",
       "                    Estimate Std. Error t value Pr(>|t|)    \n",
       "(Intercept)          0.13088    0.12599   1.039     0.31    \n",
       "molinos.data$viento  0.24115    0.01905  12.659 7.55e-12 ***\n",
       "---\n",
       "Signif. codes:  0 '***' 0.001 '**' 0.01 '*' 0.05 '.' 0.1 ' ' 1\n",
       "\n",
       "Residual standard error: 0.2361 on 23 degrees of freedom\n",
       "Multiple R-squared:  0.8745,\tAdjusted R-squared:  0.869 \n",
       "F-statistic: 160.3 on 1 and 23 DF,  p-value: 7.546e-12\n"
      ]
     },
     "metadata": {},
     "output_type": "display_data"
    }
   ],
   "source": [
    "####################################################################\n",
    "# MODELO LINEAL NORMAL :  Modelo 1: Eta_i= Beta_0 + Beta_1*x_i\n",
    "####################################################################\n",
    "\n",
    "# Inferencia Clásica\n",
    "molinos.model.1.clasic<-lm(molinos.data$corriente ~ molinos.data$viento)\n",
    "summary(molinos.model.1.clasic)"
   ]
  },
  {
   "cell_type": "code",
   "execution_count": 9,
   "metadata": {},
   "outputs": [],
   "source": [
    "# Aplicando Bayesianos\n",
    "molinos.model.1.bugs <- function(){\n",
    "  # verosimilitud\n",
    "  for (i in 1:N) {\n",
    "    mu[i] <- alpha + beta1*viento[i];\n",
    "    corriente[i] ~ dnorm(mu[i],tau);\n",
    "  }\n",
    "  # Las priori : estoy usando priori no informativos \n",
    "  # porque le estoy dando un rango amplio ( 0.0 en casi todos los modelos)\n",
    "  alpha ~ dnorm(0.0,1.0E-4);      # 1er parametro  \n",
    "  beta1 ~ dnorm(0.0,1.0E-4);      # 2do parametro\n",
    "  tau    ~ dgamma(1.0E-3,1.0E-3);  # 3er parametro , la precisión , uso gamma \n",
    "\n",
    "  # con valores pequeño para tener una varianza grande\n",
    "  sigma2 <- 1/tau;\n",
    "}\n",
    "\n",
    "# Grabar archivo\n",
    "write.model(molinos.model.1.bugs, NAME.FILE.MOD1.BUG)\n",
    "\n",
    "# Inferencia Bayesiana\n",
    "molinos.fit.model.1.bugs <- bugs(data = molinos.data.bugs,\n",
    "                                 inits =  molinos.inits.bugs,\n",
    "                                 parameters.to.save =  molinos.param.bugs,\n",
    "                                 model.file= NAME.FILE.MOD1.BUG,\n",
    "                                 n.chains=2, \n",
    "                                 n.iter=20000,\n",
    "                                 n.burnin=10000,\n",
    "                                 n.thin=1,\n",
    "                                 bugs.directory=WINBUGS.DIR,\n",
    "                                 clearWD=TRUE, \n",
    "                                 debug=FALSE)"
   ]
  },
  {
   "cell_type": "code",
   "execution_count": 10,
   "metadata": {},
   "outputs": [
    {
     "name": "stdout",
     "output_type": "stream",
     "text": [
      "Inference for Bugs model at \"Practica-03-mod1.bug\", fit using WinBUGS,\n",
      " 2 chains, each with 20000 iterations (first 10000 discarded)\n",
      " n.sims = 20000 iterations saved\n",
      "            mean     sd    2.5%     25%     50%     75%   97.5%   Rhat n.eff\n",
      "alpha     0.1328 0.1314 -0.1290  0.0462  0.1330  0.2189  0.3925 1.0010 20000\n",
      "beta1     0.2409 0.0198  0.2024  0.2278  0.2409  0.2540  0.2803 1.0010 20000\n",
      "tau      17.8848 5.2740  9.1159 14.0900 17.3850 21.0900 29.6200 1.0010 20000\n",
      "sigma2    0.0612 0.0197  0.0338  0.0474  0.0575  0.0710  0.1097 1.0010 20000\n",
      "deviance -0.1616 2.5452 -3.0860 -2.0360 -0.7978  1.0192  6.4210 1.0011 14000\n",
      "\n",
      "For each parameter, n.eff is a crude measure of effective sample size,\n",
      "and Rhat is the potential scale reduction factor (at convergence, Rhat=1).\n",
      "\n",
      "DIC info (using the rule, pD = Dbar-Dhat)\n",
      "pD = 3.1 and DIC = 2.9\n",
      "DIC is an estimate of expected predictive error (lower deviance is better).\n"
     ]
    }
   ],
   "source": [
    "#Mostrar resultados de la simulación\n",
    "print(molinos.fit.model.1.bugs,4)"
   ]
  },
  {
   "cell_type": "code",
   "execution_count": 11,
   "metadata": {},
   "outputs": [
    {
     "data": {
      "image/png": "[encoded data removed]",
      "text/plain": [
       "plot without title"
      ]
     },
     "metadata": {},
     "output_type": "display_data"
    }
   ],
   "source": [
    "#Diagnostico de Convergencia\n",
    "plot(molinos.fit.model.1.bugs)"
   ]
  },
  {
   "cell_type": "code",
   "execution_count": 9,
   "metadata": {},
   "outputs": [
    {
     "name": "stdout",
     "output_type": "stream",
     "text": [
      "                                                                                \r"
     ]
    }
   ],
   "source": [
    "#Mostrar resultado por navegador de trace, density, autocorrelation\n",
    "mcmcplot(molinos.fit.model.1.bugs)"
   ]
  },
  {
   "cell_type": "code",
   "execution_count": 12,
   "metadata": {},
   "outputs": [
    {
     "data": {
      "text/plain": [
       "\n",
       "Call:\n",
       "lm(formula = molinos.data$corriente ~ I(1/molinos.data$viento))\n",
       "\n",
       "Residuals:\n",
       "     Min       1Q   Median       3Q      Max \n",
       "-0.20547 -0.04940  0.01100  0.08352  0.12204 \n",
       "\n",
       "Coefficients:\n",
       "                         Estimate Std. Error t value Pr(>|t|)    \n",
       "(Intercept)                2.9789     0.0449   66.34   <2e-16 ***\n",
       "I(1/molinos.data$viento)  -6.9345     0.2064  -33.59   <2e-16 ***\n",
       "---\n",
       "Signif. codes:  0 '***' 0.001 '**' 0.01 '*' 0.05 '.' 0.1 ' ' 1\n",
       "\n",
       "Residual standard error: 0.09417 on 23 degrees of freedom\n",
       "Multiple R-squared:   0.98,\tAdjusted R-squared:  0.9792 \n",
       "F-statistic:  1128 on 1 and 23 DF,  p-value: < 2.2e-16\n"
      ]
     },
     "metadata": {},
     "output_type": "display_data"
    }
   ],
   "source": [
    "####################################################################\n",
    "# Modelo Lineal Normal - Modelo 2 : Eta_i= Beta_0 + Beta_1*1/x_i\n",
    "####################################################################\n",
    "\n",
    "# Inferencia Clásica -\n",
    "molinos.model.2.clasic<-lm(molinos.data$corriente ~ I(1/molinos.data$viento))\n",
    "summary(molinos.model.2.clasic)"
   ]
  },
  {
   "cell_type": "code",
   "execution_count": 13,
   "metadata": {},
   "outputs": [],
   "source": [
    "# Aplicando Bayesianos\n",
    "molinos.model.2.bugs <- function(){\n",
    "  # verosimilitud\n",
    "  for (i in 1:N) {\n",
    "    mu[i] <- alpha + beta1*(1/viento[i]);\n",
    "    corriente[i] ~ dnorm(mu[i],tau);\n",
    "  }\n",
    "  # Las priori : estoy usando priori no informativos \n",
    "  # porque le estoy dando un rango amplio ( 0.0 en casi todos los modelos)\n",
    "  alpha ~ dnorm(0.0,1.0E-4);      # 1er parametro  \n",
    "  beta1 ~ dnorm(0.0,1.0E-4);      # 2do parametro\n",
    "  tau    ~ dgamma(1.0E-3,1.0E-3);  # 3er parametro , la precisión , uso gamma \n",
    "  \n",
    "  # con valores pequeño para tener una varianza grande\n",
    "  sigma2 <- 1/tau;\n",
    "}\n",
    "\n",
    "# Grabar archivo\n",
    "write.model(molinos.model.2.bugs, NAME.FILE.MOD2.BUG)\n",
    "\n",
    "# Inferencia Bayesiana\n",
    "molinos.fit.model.2.bugs <- bugs(data = molinos.data.bugs,\n",
    "                                 inits =  molinos.inits.bugs,\n",
    "                                 parameters.to.save =  molinos.param.bugs,\n",
    "                                 model.file= NAME.FILE.MOD2.BUG,\n",
    "                                 n.chains=2, \n",
    "                                 n.iter=20000,\n",
    "                                 n.burnin=10000,\n",
    "                                 n.thin=1,\n",
    "                                 bugs.directory=WINBUGS.DIR,\n",
    "                                 clearWD=TRUE, \n",
    "                                 debug=FALSE)"
   ]
  },
  {
   "cell_type": "code",
   "execution_count": 14,
   "metadata": {},
   "outputs": [
    {
     "name": "stdout",
     "output_type": "stream",
     "text": [
      "Inference for Bugs model at \"Practica-03-mod2.bug\", fit using WinBUGS,\n",
      " 2 chains, each with 20000 iterations (first 10000 discarded)\n",
      " n.sims = 20000 iterations saved\n",
      "             mean      sd     2.5%      25%      50%      75%    97.5%   Rhat\n",
      "alpha      2.9796  0.0470   2.8850   2.9490   2.9800   3.0100   3.0720 1.0010\n",
      "beta1     -6.9376  0.2158  -7.3560  -7.0800  -6.9380  -6.7950  -6.5080 1.0010\n",
      "tau      111.4552 32.8664  56.8095  87.7800 108.3000 131.4000 184.6000 1.0010\n",
      "sigma2     0.0098  0.0032   0.0054   0.0076   0.0092   0.0114   0.0176 1.0010\n",
      "deviance -46.0906  2.5581 -49.0300 -47.9725 -46.7300 -44.9100 -39.4700 1.0011\n",
      "         n.eff\n",
      "alpha    20000\n",
      "beta1    20000\n",
      "tau      20000\n",
      "sigma2   20000\n",
      "deviance 14000\n",
      "\n",
      "For each parameter, n.eff is a crude measure of effective sample size,\n",
      "and Rhat is the potential scale reduction factor (at convergence, Rhat=1).\n",
      "\n",
      "DIC info (using the rule, pD = Dbar-Dhat)\n",
      "pD = 3.1 and DIC = -43.0\n",
      "DIC is an estimate of expected predictive error (lower deviance is better).\n"
     ]
    }
   ],
   "source": [
    "#Mostrar resultados de la simulación\n",
    "print(molinos.fit.model.2.bugs,4)"
   ]
  },
  {
   "cell_type": "code",
   "execution_count": 15,
   "metadata": {},
   "outputs": [
    {
     "data": {
      "image/png": "[encoded data removed]",
      "text/plain": [
       "plot without title"
      ]
     },
     "metadata": {},
     "output_type": "display_data"
    }
   ],
   "source": [
    "#Diagnostico de Convergencia\n",
    "plot(molinos.fit.model.2.bugs)"
   ]
  },
  {
   "cell_type": "code",
   "execution_count": 14,
   "metadata": {},
   "outputs": [
    {
     "name": "stdout",
     "output_type": "stream",
     "text": [
      "                                                                                \r"
     ]
    }
   ],
   "source": [
    "#Mostrar resultado por navegador de trace, density, autocorrelation\n",
    "mcmcplot(molinos.fit.model.2.bugs)"
   ]
  },
  {
   "cell_type": "code",
   "execution_count": 16,
   "metadata": {},
   "outputs": [
    {
     "data": {
      "text/plain": [
       "\n",
       "Call:\n",
       "lm(formula = molinos.data$corriente ~ I(log(molinos.data$viento)))\n",
       "\n",
       "Residuals:\n",
       "     Min       1Q   Median       3Q      Max \n",
       "-0.31619 -0.07685  0.02395  0.11139  0.23029 \n",
       "\n",
       "Coefficients:\n",
       "                            Estimate Std. Error t value Pr(>|t|)    \n",
       "(Intercept)                 -0.83036    0.11083  -7.493  1.3e-07 ***\n",
       "I(log(molinos.data$viento))  1.41677    0.06234  22.728  < 2e-16 ***\n",
       "---\n",
       "Signif. codes:  0 '***' 0.001 '**' 0.01 '*' 0.05 '.' 0.1 ' ' 1\n",
       "\n",
       "Residual standard error: 0.1376 on 23 degrees of freedom\n",
       "Multiple R-squared:  0.9574,\tAdjusted R-squared:  0.9555 \n",
       "F-statistic: 516.6 on 1 and 23 DF,  p-value: < 2.2e-16\n"
      ]
     },
     "metadata": {},
     "output_type": "display_data"
    }
   ],
   "source": [
    "####################################################################\n",
    "# Modelo Lineal Normal - Modelo 3 : Eta_i= Beta_0 + Beta_1*log(x_i)\n",
    "####################################################################\n",
    "\n",
    "# Inferencia Clásica -\n",
    "molinos.model.3.clasic<-lm(molinos.data$corriente ~ I(log(molinos.data$viento)))\n",
    "summary(molinos.model.3.clasic)"
   ]
  },
  {
   "cell_type": "code",
   "execution_count": 17,
   "metadata": {},
   "outputs": [],
   "source": [
    "# Aplicando Bayesianos\n",
    "molinos.model.3.bugs <- function(){\n",
    "  # verosimilitud\n",
    "  for (i in 1:N) {\n",
    "    mu[i] <- alpha + beta1*log(viento[i]);\n",
    "    corriente[i] ~ dnorm(mu[i],tau);\n",
    "  }\n",
    "  # Las priori : estoy usando priori no informativos \n",
    "  # porque le estoy dando un rango amplio ( 0.0 en casi todos los modelos)\n",
    "  alpha ~ dnorm(0.0,1.0E-4);      # 1er parametro  \n",
    "  beta1 ~ dnorm(0.0,1.0E-4);      # 2do parametro\n",
    "  tau    ~ dgamma(1.0E-3,1.0E-3);  # 3er parametro , la precisión , uso gamma \n",
    "  \n",
    "  # con valores pequeño para tener una varianza grande\n",
    "  sigma2 <- 1/tau;\n",
    "}\n",
    "\n",
    "# Grabar archivo\n",
    "write.model(molinos.model.3.bugs, NAME.FILE.MOD3.BUG)\n",
    "\n",
    "# Inferencia Bayesiana\n",
    "molinos.fit.model.3.bugs <- bugs(data = molinos.data.bugs,\n",
    "                                 inits =  molinos.inits.bugs,\n",
    "                                 parameters.to.save =  molinos.param.bugs,\n",
    "                                 model.file= NAME.FILE.MOD3.BUG,\n",
    "                                 n.chains=2, \n",
    "                                 n.iter=20000,\n",
    "                                 n.burnin=10000,\n",
    "                                 n.thin=1,\n",
    "                                 bugs.directory=WINBUGS.DIR,\n",
    "                                 clearWD=TRUE, \n",
    "                                 debug=FALSE)"
   ]
  },
  {
   "cell_type": "code",
   "execution_count": 18,
   "metadata": {},
   "outputs": [
    {
     "name": "stdout",
     "output_type": "stream",
     "text": [
      "Inference for Bugs model at \"Practica-03-mod3.bug\", fit using WinBUGS,\n",
      " 2 chains, each with 20000 iterations (first 10000 discarded)\n",
      " n.sims = 20000 iterations saved\n",
      "             mean      sd     2.5%      25%      50%      75%    97.5%   Rhat\n",
      "alpha     -0.8286  0.1157  -1.0590  -0.9046  -0.8284  -0.7523  -0.6008 1.0010\n",
      "beta1      1.4158  0.0650   1.2900   1.3730   1.4160   1.4590   1.5450 1.0010\n",
      "tau       52.4982 15.4810  26.7597  41.3500  51.0300  61.9000  86.9502 1.0010\n",
      "sigma2     0.0208  0.0067   0.0115   0.0162   0.0196   0.0242   0.0374 1.0010\n",
      "deviance -27.1516  2.5498 -30.0800 -29.0300 -27.7900 -25.9700 -20.5500 1.0011\n",
      "         n.eff\n",
      "alpha    20000\n",
      "beta1    20000\n",
      "tau      20000\n",
      "sigma2   20000\n",
      "deviance 14000\n",
      "\n",
      "For each parameter, n.eff is a crude measure of effective sample size,\n",
      "and Rhat is the potential scale reduction factor (at convergence, Rhat=1).\n",
      "\n",
      "DIC info (using the rule, pD = Dbar-Dhat)\n",
      "pD = 3.1 and DIC = -24.1\n",
      "DIC is an estimate of expected predictive error (lower deviance is better).\n"
     ]
    }
   ],
   "source": [
    "#Mostrar resultados de la simulación\n",
    "print(molinos.fit.model.3.bugs,4)"
   ]
  },
  {
   "cell_type": "code",
   "execution_count": 19,
   "metadata": {},
   "outputs": [
    {
     "data": {
      "image/png": "[encoded data removed]",
      "text/plain": [
       "plot without title"
      ]
     },
     "metadata": {},
     "output_type": "display_data"
    }
   ],
   "source": [
    "#Diagnostico de Convergencia\n",
    "plot(molinos.fit.model.3.bugs)"
   ]
  },
  {
   "cell_type": "code",
   "execution_count": 21,
   "metadata": {},
   "outputs": [
    {
     "name": "stdout",
     "output_type": "stream",
     "text": [
      "                                                                                \r"
     ]
    }
   ],
   "source": [
    "#Mostrar resultado por navegador de trace, density, autocorrelation\n",
    "mcmcplot(molinos.fit.model.3.bugs)"
   ]
  },
  {
   "cell_type": "code",
   "execution_count": 22,
   "metadata": {},
   "outputs": [
    {
     "data": {
      "text/html": [
       "<table>\n",
       "<thead><tr><th></th><th scope=col>modelo</th><th scope=col>DIC</th></tr></thead>\n",
       "<tbody>\n",
       "\t<tr><th scope=row>2</th><td> Modelo 2</td><td>-43.021  </td></tr>\n",
       "\t<tr><th scope=row>3</th><td> Modelo 3</td><td>-24.082  </td></tr>\n",
       "\t<tr><th scope=row>1</th><td> Modelo 1</td><td>  2.908  </td></tr>\n",
       "</tbody>\n",
       "</table>\n"
      ],
      "text/latex": [
       "\\begin{tabular}{r|ll}\n",
       "  & modelo & DIC\\\\\n",
       "\\hline\n",
       "\t2 &  Modelo 2 & -43.021  \\\\\n",
       "\t3 &  Modelo 3 & -24.082  \\\\\n",
       "\t1 &  Modelo 1 &   2.908  \\\\\n",
       "\\end{tabular}\n"
      ],
      "text/markdown": [
       "\n",
       "| <!--/--> | modelo | DIC | \n",
       "|---|---|---|\n",
       "| 2 |  Modelo 2 | -43.021   | \n",
       "| 3 |  Modelo 3 | -24.082   | \n",
       "| 1 |  Modelo 1 |   2.908   | \n",
       "\n",
       "\n"
      ],
      "text/plain": [
       "  modelo    DIC    \n",
       "2  Modelo 2 -43.021\n",
       "3  Modelo 3 -24.082\n",
       "1  Modelo 1   2.908"
      ]
     },
     "metadata": {},
     "output_type": "display_data"
    }
   ],
   "source": [
    "# Comparación de los modelos basados en el DIC : Deviance Information Criterion\n",
    "df <- data.frame(\n",
    "          modelo = c(\" Modelo 1\", \n",
    "                     \" Modelo 2\", \n",
    "                     \" Modelo 3\"),\n",
    "          DIC = c(molinos.fit.model.1.bugs$DIC,\n",
    "                  molinos.fit.model.2.bugs$DIC,\n",
    "                  molinos.fit.model.3.bugs$DIC)\n",
    "          )\n",
    "\n",
    "df[order(df$DIC),]"
   ]
  }
 ],
 "metadata": {
  "kernelspec": {
   "display_name": "R",
   "language": "R",
   "name": "ir"
  },
  "language_info": {
   "codemirror_mode": "r",
   "file_extension": ".r",
   "mimetype": "text/x-r-source",
   "name": "R",
   "pygments_lexer": "r",
   "version": "3.4.2"
  }
 },
 "nbformat": 4,
 "nbformat_minor": 2
}
