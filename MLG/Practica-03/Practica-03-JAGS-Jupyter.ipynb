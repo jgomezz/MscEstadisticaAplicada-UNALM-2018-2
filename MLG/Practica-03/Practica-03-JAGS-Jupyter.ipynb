{
 "cells": [
  {
   "cell_type": "code",
   "execution_count": 1,
   "metadata": {},
   "outputs": [
    {
     "name": "stderr",
     "output_type": "stream",
     "text": [
      "Warning message:\n",
      "\"package 'R2jags' was built under R version 3.4.4\"Loading required package: rjags\n",
      "Warning message:\n",
      "\"package 'rjags' was built under R version 3.4.4\"Loading required package: coda\n",
      "Warning message:\n",
      "\"package 'coda' was built under R version 3.4.4\"Linked to JAGS 4.3.0\n",
      "Loaded modules: basemod,bugs\n",
      "\n",
      "Attaching package: 'R2jags'\n",
      "\n",
      "The following object is masked from 'package:coda':\n",
      "\n",
      "    traceplot\n",
      "\n",
      "Warning message:\n",
      "\"package 'mcmcplots' was built under R version 3.4.4\""
     ]
    }
   ],
   "source": [
    "####################################################################\n",
    "#                     Practica No.3 - JAGS\n",
    "# Pregunta 1\n",
    "####################################################################\n",
    "\n",
    "#install.packages(\"R2jags\")\n",
    "#install.packages(\"mcmctab\")\n",
    "\n",
    "library(foreign)\n",
    "library(R2jags)\n",
    "library(coda)\n",
    "library(boot)\n",
    "library(mcmcplots)"
   ]
  },
  {
   "cell_type": "code",
   "execution_count": 2,
   "metadata": {},
   "outputs": [
    {
     "data": {
      "text/html": [
       "<table>\n",
       "<thead><tr><th scope=col>viento</th><th scope=col>corriente</th></tr></thead>\n",
       "<tbody>\n",
       "\t<tr><td> 5.0 </td><td>1.582</td></tr>\n",
       "\t<tr><td> 6.0 </td><td>1.822</td></tr>\n",
       "\t<tr><td> 3.4 </td><td>1.057</td></tr>\n",
       "\t<tr><td> 2.7 </td><td>0.500</td></tr>\n",
       "\t<tr><td>10.0 </td><td>2.236</td></tr>\n",
       "\t<tr><td> 9.7 </td><td>2.386</td></tr>\n",
       "</tbody>\n",
       "</table>\n"
      ],
      "text/latex": [
       "\\begin{tabular}{r|ll}\n",
       " viento & corriente\\\\\n",
       "\\hline\n",
       "\t  5.0  & 1.582\\\\\n",
       "\t  6.0  & 1.822\\\\\n",
       "\t  3.4  & 1.057\\\\\n",
       "\t  2.7  & 0.500\\\\\n",
       "\t 10.0  & 2.236\\\\\n",
       "\t  9.7  & 2.386\\\\\n",
       "\\end{tabular}\n"
      ],
      "text/markdown": [
       "\n",
       "viento | corriente | \n",
       "|---|---|---|---|---|---|\n",
       "|  5.0  | 1.582 | \n",
       "|  6.0  | 1.822 | \n",
       "|  3.4  | 1.057 | \n",
       "|  2.7  | 0.500 | \n",
       "| 10.0  | 2.236 | \n",
       "|  9.7  | 2.386 | \n",
       "\n",
       "\n"
      ],
      "text/plain": [
       "  viento corriente\n",
       "1  5.0   1.582    \n",
       "2  6.0   1.822    \n",
       "3  3.4   1.057    \n",
       "4  2.7   0.500    \n",
       "5 10.0   2.236    \n",
       "6  9.7   2.386    "
      ]
     },
     "metadata": {},
     "output_type": "display_data"
    }
   ],
   "source": [
    "#Ruta archivo\n",
    "PATH.FILE <- \"https://raw.githubusercontent.com/jgomezz/MscEstadisticaAplicada-UNALM-2018-2/master/MLG/Practica-03/molinos.csv\"\n",
    "\n",
    "#Lectura de datos\n",
    "molinos.data <- read.csv(PATH.FILE, header = TRUE)\n",
    "head(molinos.data)"
   ]
  },
  {
   "cell_type": "code",
   "execution_count": 3,
   "metadata": {},
   "outputs": [
    {
     "data": {
      "image/png": "[encoded data removed]",
      "text/plain": [
       "plot without title"
      ]
     },
     "metadata": {},
     "output_type": "display_data"
    }
   ],
   "source": [
    "#Análisis descriptivo\n",
    "plot(molinos.data$viento, molinos.data$corriente)"
   ]
  },
  {
   "cell_type": "code",
   "execution_count": 4,
   "metadata": {},
   "outputs": [],
   "source": [
    "#Datos para el análisis\n",
    "molinos.data.bugs <- list(viento = molinos.data$viento ,\n",
    "                          corriente = molinos.data$corriente ,\n",
    "                          N = nrow(molinos.data))\n",
    "\n",
    "# Parametros\n",
    "molinos.param.bugs <- c(\"alpha\",\"beta1\",\"tau\",\"sigma2\")\n",
    "\n",
    "\n",
    "# Inicializa : asigna valores aleatorios para inicializarlos\n",
    "molinos.inits.bugs <- function() {\n",
    "                        list( alpha = rnorm(1), \n",
    "                              beta1 = rnorm(1), \n",
    "                              tau   = rgamma(1,1,1) )}"
   ]
  },
  {
   "cell_type": "code",
   "execution_count": 5,
   "metadata": {},
   "outputs": [
    {
     "data": {
      "text/plain": [
       "\n",
       "Call:\n",
       "lm(formula = molinos.data$corriente ~ molinos.data$viento)\n",
       "\n",
       "Residuals:\n",
       "     Min       1Q   Median       3Q      Max \n",
       "-0.59869 -0.14099  0.06059  0.17262  0.32184 \n",
       "\n",
       "Coefficients:\n",
       "                    Estimate Std. Error t value Pr(>|t|)    \n",
       "(Intercept)          0.13088    0.12599   1.039     0.31    \n",
       "molinos.data$viento  0.24115    0.01905  12.659 7.55e-12 ***\n",
       "---\n",
       "Signif. codes:  0 '***' 0.001 '**' 0.01 '*' 0.05 '.' 0.1 ' ' 1\n",
       "\n",
       "Residual standard error: 0.2361 on 23 degrees of freedom\n",
       "Multiple R-squared:  0.8745,\tAdjusted R-squared:  0.869 \n",
       "F-statistic: 160.3 on 1 and 23 DF,  p-value: 7.546e-12\n"
      ]
     },
     "metadata": {},
     "output_type": "display_data"
    }
   ],
   "source": [
    "####################################################################\n",
    "# Modelo Lineal Normal - Modelo 1 : Eta_i= Beta_0 + Beta_1*x_i\n",
    "####################################################################\n",
    "\n",
    "# Inferencia Clásica\n",
    "molinos.model.1.clasic<-lm(molinos.data$corriente ~ molinos.data$viento)\n",
    "summary(molinos.model.1.clasic)"
   ]
  },
  {
   "cell_type": "code",
   "execution_count": 6,
   "metadata": {},
   "outputs": [
    {
     "name": "stderr",
     "output_type": "stream",
     "text": [
      "module glm loaded\n"
     ]
    },
    {
     "name": "stdout",
     "output_type": "stream",
     "text": [
      "Compiling model graph\n",
      "   Resolving undeclared variables\n",
      "   Allocating nodes\n",
      "Graph information:\n",
      "   Observed stochastic nodes: 25\n",
      "   Unobserved stochastic nodes: 3\n",
      "   Total graph size: 109\n",
      "\n",
      "Initializing model\n",
      "\n"
     ]
    }
   ],
   "source": [
    "# Aplicando Bayesianos\n",
    "molinos.model.1.jags <- function(){\n",
    "    # verosimilitud\n",
    "    for (i in 1:N) {\n",
    "      mu[i] <- alpha + beta1*viento[i];\n",
    "      corriente[i] ~ dnorm(mu[i],tau);\n",
    "    }\n",
    "\n",
    "    alpha  ~ dnorm(0.0,1.0E-4);      # 1er parametro  \n",
    "    beta1  ~ dnorm(0.0,1.0E-4);      # 2do parametro\n",
    "    tau    ~ dgamma(1.0E-3,1.0E-3);  # 3er parametro , la precisión , uso gamma \n",
    "    \n",
    "    # con valores pequeño para tener una varianza grande\n",
    "    sigma2 <- 1/tau;\n",
    "}\n",
    "\n",
    "# Inferencia Bayesiana\n",
    "molinos.fit.model.1.bugs <- jags(data=molinos.data.bugs, \n",
    "                                 inits=molinos.inits.bugs, \n",
    "                                 molinos.param.bugs, \n",
    "                                 n.chains=2, \n",
    "                                 n.iter=20000, \n",
    "                                 n.burnin=10000, \n",
    "                                 model.file=molinos.model.1.jags)"
   ]
  },
  {
   "cell_type": "code",
   "execution_count": 7,
   "metadata": {},
   "outputs": [
    {
     "name": "stdout",
     "output_type": "stream",
     "text": [
      "Inference for Bugs model at \"C:/WINDOWS/TEMP/RtmpEHAEad/model2f3f43f794092.txt\", fit using jags,\n",
      " 2 chains, each with 20000 iterations (first 10000 discarded), n.thin = 10\n",
      " n.sims = 2000 iterations saved\n",
      "         mu.vect sd.vect    2.5%     25%     50%     75%   97.5%   Rhat n.eff\n",
      "alpha     0.1253  0.1431 -0.1497  0.0376  0.1262  0.2117  0.3888 1.0010  2000\n",
      "beta1     0.2418  0.0211  0.2020  0.2285  0.2422  0.2551  0.2821 1.1429  2000\n",
      "sigma2    0.0616  0.0329  0.0342  0.0475  0.0571  0.0704  0.1081 1.0026   730\n",
      "tau      17.9395  5.2554  9.2469 14.2070 17.5121 21.0667 29.2702 1.0026   730\n",
      "deviance -0.0475  3.2458 -3.0957 -2.0737 -0.7882  0.9921  6.9706 1.0006  2000\n",
      "\n",
      "For each parameter, n.eff is a crude measure of effective sample size,\n",
      "and Rhat is the potential scale reduction factor (at convergence, Rhat=1).\n",
      "\n",
      "DIC info (using the rule, pD = var(deviance)/2)\n",
      "pD = 5.3 and DIC = 5.2\n",
      "DIC is an estimate of expected predictive error (lower deviance is better).\n"
     ]
    }
   ],
   "source": [
    "#Mostrar resultados de la simulación\n",
    "print(molinos.fit.model.1.bugs,4)"
   ]
  },
  {
   "cell_type": "code",
   "execution_count": 8,
   "metadata": {},
   "outputs": [
    {
     "data": {
      "image/png": "[encoded data removed]",
      "text/plain": [
       "plot without title"
      ]
     },
     "metadata": {},
     "output_type": "display_data"
    }
   ],
   "source": [
    "#Diagnostico de Convergencia\n",
    "plot(molinos.fit.model.1.bugs)"
   ]
  },
  {
   "cell_type": "code",
   "execution_count": 9,
   "metadata": {},
   "outputs": [
    {
     "data": {
      "text/plain": [
       "\n",
       "Call:\n",
       "lm(formula = molinos.data$corriente ~ I(1/molinos.data$viento))\n",
       "\n",
       "Residuals:\n",
       "     Min       1Q   Median       3Q      Max \n",
       "-0.20547 -0.04940  0.01100  0.08352  0.12204 \n",
       "\n",
       "Coefficients:\n",
       "                         Estimate Std. Error t value Pr(>|t|)    \n",
       "(Intercept)                2.9789     0.0449   66.34   <2e-16 ***\n",
       "I(1/molinos.data$viento)  -6.9345     0.2064  -33.59   <2e-16 ***\n",
       "---\n",
       "Signif. codes:  0 '***' 0.001 '**' 0.01 '*' 0.05 '.' 0.1 ' ' 1\n",
       "\n",
       "Residual standard error: 0.09417 on 23 degrees of freedom\n",
       "Multiple R-squared:   0.98,\tAdjusted R-squared:  0.9792 \n",
       "F-statistic:  1128 on 1 and 23 DF,  p-value: < 2.2e-16\n"
      ]
     },
     "metadata": {},
     "output_type": "display_data"
    }
   ],
   "source": [
    "####################################################################\n",
    "# Modelo Lineal Normal - Modelo 2 : Eta_i= Beta_0 + Beta_1*1/x_i\n",
    "####################################################################\n",
    "\n",
    "# Inferencia Clásica\n",
    "molinos.model.2.clasic<-lm(molinos.data$corriente ~ I(1/molinos.data$viento))\n",
    "summary(molinos.model.2.clasic)"
   ]
  },
  {
   "cell_type": "code",
   "execution_count": 10,
   "metadata": {},
   "outputs": [
    {
     "name": "stdout",
     "output_type": "stream",
     "text": [
      "Compiling model graph\n",
      "   Resolving undeclared variables\n",
      "   Allocating nodes\n",
      "Graph information:\n",
      "   Observed stochastic nodes: 25\n",
      "   Unobserved stochastic nodes: 3\n",
      "   Total graph size: 134\n",
      "\n",
      "Initializing model\n",
      "\n"
     ]
    }
   ],
   "source": [
    "# Aplicando Bayesianos\n",
    "molinos.model.2.jags <- function(){\n",
    "  # verosimilitud\n",
    "  for (i in 1:N) {\n",
    "    mu[i] <- alpha + beta1*(1/viento[i]);\n",
    "    corriente[i] ~ dnorm(mu[i],tau);\n",
    "  }\n",
    "  \n",
    "  alpha  ~ dnorm(0.0,1.0E-4);      # 1er parametro  \n",
    "  beta1  ~ dnorm(0.0,1.0E-4);      # 2do parametro\n",
    "  tau    ~ dgamma(1.0E-3,1.0E-3);  # 3er parametro , la precisión , uso gamma \n",
    "  \n",
    "  # con valores pequeño para tener una varianza grande\n",
    "  sigma2 <- 1/tau;\n",
    "}\n",
    "\n",
    "# Inferencia Bayesiana\n",
    "molinos.fit.model.2.bugs <- jags(data=molinos.data.bugs, \n",
    "                                 inits=molinos.inits.bugs, \n",
    "                                 molinos.param.bugs, \n",
    "                                 n.chains=2, \n",
    "                                 n.iter=20000, \n",
    "                                 n.burnin=10000, \n",
    "                                 model.file=molinos.model.2.jags)"
   ]
  },
  {
   "cell_type": "code",
   "execution_count": 11,
   "metadata": {},
   "outputs": [
    {
     "name": "stdout",
     "output_type": "stream",
     "text": [
      "Inference for Bugs model at \"C:/WINDOWS/TEMP/RtmpEHAEad/model2f3f4ca91dee.txt\", fit using jags,\n",
      " 2 chains, each with 20000 iterations (first 10000 discarded), n.thin = 10\n",
      " n.sims = 2000 iterations saved\n",
      "          mu.vect sd.vect     2.5%      25%      50%      75%    97.5%   Rhat\n",
      "alpha      2.9803  0.0574   2.8880   2.9478   2.9802   3.0097   3.0703 1.0207\n",
      "beta1     -6.9408  0.2570  -7.3715  -7.0779  -6.9362  -6.7949  -6.5313 1.0367\n",
      "sigma2     0.0100  0.0141   0.0054   0.0075   0.0092   0.0113   0.0175 1.0158\n",
      "tau      112.5335 33.6029  57.1744  88.4714 108.8333 133.4910 184.4616 1.0158\n",
      "deviance -46.0436  3.3852 -49.0012 -47.9752 -46.6512 -44.9549 -39.7631 1.0851\n",
      "         n.eff\n",
      "alpha     2000\n",
      "beta1     2000\n",
      "sigma2     490\n",
      "tau        490\n",
      "deviance  1100\n",
      "\n",
      "For each parameter, n.eff is a crude measure of effective sample size,\n",
      "and Rhat is the potential scale reduction factor (at convergence, Rhat=1).\n",
      "\n",
      "DIC info (using the rule, pD = var(deviance)/2)\n",
      "pD = 5.7 and DIC = -40.3\n",
      "DIC is an estimate of expected predictive error (lower deviance is better).\n"
     ]
    }
   ],
   "source": [
    "#Mostrar resultados de la simulación\n",
    "print(molinos.fit.model.2.bugs,4)"
   ]
  },
  {
   "cell_type": "code",
   "execution_count": 12,
   "metadata": {},
   "outputs": [
    {
     "data": {
      "image/png": "[encoded data removed]",
      "text/plain": [
       "plot without title"
      ]
     },
     "metadata": {},
     "output_type": "display_data"
    }
   ],
   "source": [
    "#Diagnostico de Convergencia\n",
    "plot(molinos.fit.model.2.bugs)"
   ]
  },
  {
   "cell_type": "code",
   "execution_count": 13,
   "metadata": {},
   "outputs": [
    {
     "data": {
      "text/plain": [
       "\n",
       "Call:\n",
       "lm(formula = molinos.data$corriente ~ I(log(molinos.data$viento)))\n",
       "\n",
       "Residuals:\n",
       "     Min       1Q   Median       3Q      Max \n",
       "-0.31619 -0.07685  0.02395  0.11139  0.23029 \n",
       "\n",
       "Coefficients:\n",
       "                            Estimate Std. Error t value Pr(>|t|)    \n",
       "(Intercept)                 -0.83036    0.11083  -7.493  1.3e-07 ***\n",
       "I(log(molinos.data$viento))  1.41677    0.06234  22.728  < 2e-16 ***\n",
       "---\n",
       "Signif. codes:  0 '***' 0.001 '**' 0.01 '*' 0.05 '.' 0.1 ' ' 1\n",
       "\n",
       "Residual standard error: 0.1376 on 23 degrees of freedom\n",
       "Multiple R-squared:  0.9574,\tAdjusted R-squared:  0.9555 \n",
       "F-statistic: 516.6 on 1 and 23 DF,  p-value: < 2.2e-16\n"
      ]
     },
     "metadata": {},
     "output_type": "display_data"
    }
   ],
   "source": [
    "####################################################################\n",
    "# Modelo Lineal Normal - Modelo 3 : Eta_i= Beta_0 + Beta_1*log(x_i)\n",
    "####################################################################\n",
    "\n",
    "# Inferencia Clásica\n",
    "molinos.model.3.clasic<-lm(molinos.data$corriente ~ I(log(molinos.data$viento)))\n",
    "summary(molinos.model.3.clasic)"
   ]
  },
  {
   "cell_type": "code",
   "execution_count": 14,
   "metadata": {},
   "outputs": [
    {
     "name": "stdout",
     "output_type": "stream",
     "text": [
      "Compiling model graph\n",
      "   Resolving undeclared variables\n",
      "   Allocating nodes\n",
      "Graph information:\n",
      "   Observed stochastic nodes: 25\n",
      "   Unobserved stochastic nodes: 3\n",
      "   Total graph size: 134\n",
      "\n",
      "Initializing model\n",
      "\n"
     ]
    }
   ],
   "source": [
    "# Aplicando Bayesianos\n",
    "molinos.model.3.jags <- function(){\n",
    "  # verosimilitud\n",
    "  for (i in 1:N) {\n",
    "    mu[i] <- alpha + beta1*log(viento[i]);\n",
    "    corriente[i] ~ dnorm(mu[i],tau);\n",
    "  }\n",
    "  \n",
    "  alpha  ~ dnorm(0.0,1.0E-4);      # 1er parametro  \n",
    "  beta1  ~ dnorm(0.0,1.0E-4);      # 2do parametro\n",
    "  tau    ~ dgamma(1.0E-3,1.0E-3);  # 3er parametro , la precisión , uso gamma \n",
    "  \n",
    "  # con valores pequeño para tener una varianza grande\n",
    "  sigma2 <- 1/tau;\n",
    "}\n",
    "\n",
    "# Inferencia Bayesiana\n",
    "molinos.fit.model.3.bugs <- jags(data=molinos.data.bugs, \n",
    "                                 inits=molinos.inits.bugs, \n",
    "                                 molinos.param.bugs, \n",
    "                                 n.chains=2, \n",
    "                                 n.iter=20000, \n",
    "                                 n.burnin=10000, \n",
    "                                 model.file=molinos.model.3.jags)"
   ]
  },
  {
   "cell_type": "code",
   "execution_count": 15,
   "metadata": {},
   "outputs": [
    {
     "name": "stdout",
     "output_type": "stream",
     "text": [
      "Inference for Bugs model at \"C:/WINDOWS/TEMP/RtmpEHAEad/model2f3f45e167d32.txt\", fit using jags,\n",
      " 2 chains, each with 20000 iterations (first 10000 discarded), n.thin = 10\n",
      " n.sims = 2000 iterations saved\n",
      "          mu.vect sd.vect     2.5%      25%      50%      75%    97.5%   Rhat\n",
      "alpha     -0.8303  0.1241  -1.0467  -0.9024  -0.8288  -0.7557  -0.6031 1.0168\n",
      "beta1      1.4174  0.0781   1.2927   1.3749   1.4171   1.4585   1.5447 1.0141\n",
      "sigma2     0.0218  0.0572   0.0115   0.0160   0.0195   0.0238   0.0366 1.0138\n",
      "tau       53.0540 15.5090  27.3087  41.9946  51.1920  62.3114  87.3051 1.0138\n",
      "deviance -27.1399  3.6189 -30.0871 -28.9827 -27.8262 -26.1140 -20.4598 1.0981\n",
      "         n.eff\n",
      "alpha      950\n",
      "beta1     1200\n",
      "sigma2    1000\n",
      "tau       1000\n",
      "deviance  2000\n",
      "\n",
      "For each parameter, n.eff is a crude measure of effective sample size,\n",
      "and Rhat is the potential scale reduction factor (at convergence, Rhat=1).\n",
      "\n",
      "DIC info (using the rule, pD = var(deviance)/2)\n",
      "pD = 6.5 and DIC = -20.6\n",
      "DIC is an estimate of expected predictive error (lower deviance is better).\n"
     ]
    }
   ],
   "source": [
    "#Mostrar resultados de la simulación\n",
    "print(molinos.fit.model.3.bugs,4)"
   ]
  },
  {
   "cell_type": "code",
   "execution_count": 16,
   "metadata": {},
   "outputs": [
    {
     "data": {
      "image/png": "[encoded data removed]",
      "text/plain": [
       "plot without title"
      ]
     },
     "metadata": {},
     "output_type": "display_data"
    }
   ],
   "source": [
    "#Diagnostico de Convergencia\n",
    "plot(molinos.fit.model.3.bugs)"
   ]
  },
  {
   "cell_type": "code",
   "execution_count": 17,
   "metadata": {},
   "outputs": [
    {
     "data": {
      "text/html": [
       "<table>\n",
       "<thead><tr><th></th><th scope=col>modelo</th><th scope=col>DIC</th></tr></thead>\n",
       "<tbody>\n",
       "\t<tr><th scope=row>2</th><td> Modelo 2 </td><td>-40.316216</td></tr>\n",
       "\t<tr><th scope=row>3</th><td> Modelo 3 </td><td>-20.590857</td></tr>\n",
       "\t<tr><th scope=row>1</th><td> Modelo 1 </td><td>  5.222298</td></tr>\n",
       "</tbody>\n",
       "</table>\n"
      ],
      "text/latex": [
       "\\begin{tabular}{r|ll}\n",
       "  & modelo & DIC\\\\\n",
       "\\hline\n",
       "\t2 &  Modelo 2  & -40.316216\\\\\n",
       "\t3 &  Modelo 3  & -20.590857\\\\\n",
       "\t1 &  Modelo 1  &   5.222298\\\\\n",
       "\\end{tabular}\n"
      ],
      "text/markdown": [
       "\n",
       "| <!--/--> | modelo | DIC | \n",
       "|---|---|---|\n",
       "| 2 |  Modelo 2  | -40.316216 | \n",
       "| 3 |  Modelo 3  | -20.590857 | \n",
       "| 1 |  Modelo 1  |   5.222298 | \n",
       "\n",
       "\n"
      ],
      "text/plain": [
       "  modelo    DIC       \n",
       "2  Modelo 2 -40.316216\n",
       "3  Modelo 3 -20.590857\n",
       "1  Modelo 1   5.222298"
      ]
     },
     "metadata": {},
     "output_type": "display_data"
    }
   ],
   "source": [
    "# Comparación de los modelos basados en el DIC : Deviance Information Criterion\n",
    "df <- data.frame(\n",
    "  modelo = c(\" Modelo 1\",\n",
    "             \" Modelo 2\",\n",
    "             \" Modelo 3\"),\n",
    "  DIC = c(molinos.fit.model.1.bugs$BUGSoutput$DIC,\n",
    "          molinos.fit.model.2.bugs$BUGSoutput$DIC,\n",
    "          molinos.fit.model.3.bugs$BUGSoutput$DIC)\n",
    ")\n",
    "\n",
    "df[order(df$DIC),]"
   ]
  }
 ],
 "metadata": {
  "kernelspec": {
   "display_name": "R",
   "language": "R",
   "name": "ir"
  },
  "language_info": {
   "codemirror_mode": "r",
   "file_extension": ".r",
   "mimetype": "text/x-r-source",
   "name": "R",
   "pygments_lexer": "r",
   "version": "3.4.2"
  }
 },
 "nbformat": 4,
 "nbformat_minor": 2
}
